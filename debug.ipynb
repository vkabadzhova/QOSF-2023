{
 "cells": [
  {
   "cell_type": "code",
   "execution_count": 1,
   "id": "5d61e274-1388-4368-b860-e3df545db2a0",
   "metadata": {},
   "outputs": [],
   "source": [
    "from qiskit import QuantumRegister, ClassicalRegister, QuantumCircuit\n",
    "from qiskit.circuit.library import C4XGate\n",
    "from numpy import pi"
   ]
  },
  {
   "cell_type": "code",
   "execution_count": 2,
   "id": "4cd27988-d748-46bc-86ac-edde917faa6d",
   "metadata": {},
   "outputs": [],
   "source": [
    "list_number = [1, -1, 1, 0]"
   ]
  },
  {
   "cell_type": "code",
   "execution_count": 3,
   "id": "30c36f4c-ef45-490a-9f16-6eeece8b67dd",
   "metadata": {},
   "outputs": [],
   "source": [
    "def prepare_circuit(list_number):\n",
    "    work_qbits_num = len(list_number)\n",
    "    ancilla_qbits_num = 1\n",
    "    all_qbits_num = work_qbits_num + ancilla_qbits_num \n",
    "    classical_bits_num = all_qbits_num\n",
    "    \n",
    "    qr = QuantumRegister(work_qbits_num, 'q')\n",
    "    anc = QuantumRegister(ancilla_qbits_num, 'ancilla')\n",
    "    cr = ClassicalRegister(classical_bits_num, 'c')\n",
    "    circuit = QuantumCircuit(anc, qr, cr)\n",
    "    \n",
    "    # circuit = QuantumCircuit(qr, cr)\n",
    "    \n",
    "    for i, _ in enumerate(list_number):\n",
    "        if list_number[i] == -1:\n",
    "            circuit.x(i)\n",
    "\n",
    "    circuit.barrier()\n",
    "    \n",
    "    circuit.h(i for i in range(all_qbits_num))\n",
    "    \n",
    "    circuit.barrier()\n",
    "    \n",
    "#     quantum_registers_list = [qr[i] for i in range(work_qbits_num)] \n",
    "#     # print([qr[i] for i in range(len(list_number))], cr[0])\n",
    "#     # TODO: how do you \n",
    "    # circuit.append(C4XGate(), [qr[3], qr[2], qr[1], qr[0], anc[0]])\n",
    "    \n",
    "    for i in range(work_qbits_num):  \n",
    "        circuit.cx(qr[i], anc[0])\n",
    "    \n",
    "    circuit.barrier()\n",
    "    \n",
    "    circuit.h(i for i in range(all_qbits_num))\n",
    "    \n",
    "    circuit.measure(anc[0], cr[0])\n",
    "    for i in range(work_qbits_num):\n",
    "        circuit.measure(qr[i], cr[i+1])\n",
    "    return circuit"
   ]
  },
  {
   "cell_type": "code",
   "execution_count": 4,
   "id": "efa20254-a61b-423b-b596-b9ca3a7ebd3e",
   "metadata": {},
   "outputs": [
    {
     "data": {
      "text/html": [
       "<pre style=\"word-wrap: normal;white-space: pre;background: #fff0;line-height: 1.1;font-family: &quot;Courier New&quot;,Courier,monospace\">               ░ ┌───┐ ░ ┌───┐┌───┐┌───┐┌───┐ ░ ┌───┐┌─┐            \n",
       "ancilla: ──────░─┤ H ├─░─┤ X ├┤ X ├┤ X ├┤ X ├─░─┤ H ├┤M├────────────\n",
       "         ┌───┐ ░ ├───┤ ░ └─┬─┘└─┬─┘└─┬─┘└─┬─┘ ░ ├───┤└╥┘┌─┐         \n",
       "    q_0: ┤ X ├─░─┤ H ├─░───■────┼────┼────┼───░─┤ H ├─╫─┤M├─────────\n",
       "         └───┘ ░ ├───┤ ░        │    │    │   ░ ├───┤ ║ └╥┘┌─┐      \n",
       "    q_1: ──────░─┤ H ├─░────────■────┼────┼───░─┤ H ├─╫──╫─┤M├──────\n",
       "               ░ ├───┤ ░             │    │   ░ ├───┤ ║  ║ └╥┘┌─┐   \n",
       "    q_2: ──────░─┤ H ├─░─────────────■────┼───░─┤ H ├─╫──╫──╫─┤M├───\n",
       "               ░ ├───┤ ░                  │   ░ ├───┤ ║  ║  ║ └╥┘┌─┐\n",
       "    q_3: ──────░─┤ H ├─░──────────────────■───░─┤ H ├─╫──╫──╫──╫─┤M├\n",
       "               ░ └───┘ ░                      ░ └───┘ ║  ║  ║  ║ └╥┘\n",
       "    c: 5/═════════════════════════════════════════════╩══╩══╩══╩══╩═\n",
       "                                                      0  1  2  3  4 </pre>"
      ],
      "text/plain": [
       "               ░ ┌───┐ ░ ┌───┐┌───┐┌───┐┌───┐ ░ ┌───┐┌─┐            \n",
       "ancilla: ──────░─┤ H ├─░─┤ X ├┤ X ├┤ X ├┤ X ├─░─┤ H ├┤M├────────────\n",
       "         ┌───┐ ░ ├───┤ ░ └─┬─┘└─┬─┘└─┬─┘└─┬─┘ ░ ├───┤└╥┘┌─┐         \n",
       "    q_0: ┤ X ├─░─┤ H ├─░───■────┼────┼────┼───░─┤ H ├─╫─┤M├─────────\n",
       "         └───┘ ░ ├───┤ ░        │    │    │   ░ ├───┤ ║ └╥┘┌─┐      \n",
       "    q_1: ──────░─┤ H ├─░────────■────┼────┼───░─┤ H ├─╫──╫─┤M├──────\n",
       "               ░ ├───┤ ░             │    │   ░ ├───┤ ║  ║ └╥┘┌─┐   \n",
       "    q_2: ──────░─┤ H ├─░─────────────■────┼───░─┤ H ├─╫──╫──╫─┤M├───\n",
       "               ░ ├───┤ ░                  │   ░ ├───┤ ║  ║  ║ └╥┘┌─┐\n",
       "    q_3: ──────░─┤ H ├─░──────────────────■───░─┤ H ├─╫──╫──╫──╫─┤M├\n",
       "               ░ └───┘ ░                      ░ └───┘ ║  ║  ║  ║ └╥┘\n",
       "    c: 5/═════════════════════════════════════════════╩══╩══╩══╩══╩═\n",
       "                                                      0  1  2  3  4 "
      ]
     },
     "execution_count": 4,
     "metadata": {},
     "output_type": "execute_result"
    }
   ],
   "source": [
    "# def is_constant(list_number):\n",
    "# Prepare the circuit -1 ->, 0,1 -> 1\n",
    "\n",
    "# Create a circuit\n",
    "# print(qbits_num)\n",
    "# circuit = QuantumCircuit(qbits_num, 1)\n",
    "\n",
    "circuit = prepare_circuit(list_number)\n",
    "circuit.draw()\n",
    "\n",
    "\n",
    "# print(measure)\n",
    "\n",
    "\n",
    "# circuit.measure(qreg_q[0], creg_c[0])\n",
    "\n",
    "\n",
    "    # return True\n",
    "\n",
    "#     list = prepare_circuit(list)\n",
    "#     circuit.x(qreg_q[1])\n",
    "#     circuit.barrier(qreg_q[0], qreg_q[1], qreg_q[2])\n",
    "#     circuit.h(qreg_q[1])\n",
    "#     circuit.h(qreg_q[2])\n",
    "#     circuit.h(qreg_q[0])\n",
    "#     circuit.barrier(qreg_q[0], qreg_q[1], qreg_q[2])\n",
    "#     circuit.ccx(qreg_q[2], qreg_q[1], qreg_q[0])\n",
    "#     circuit.barrier(qreg_q[0], qreg_q[1], qreg_q[2])\n",
    "#     circuit.h(qreg_q[0])\n",
    "#     circuit.h(qreg_q[1])\n",
    "#     circuit.h(qreg_q[2])\n",
    "#     circuit.barrier(qreg_q[0], qreg_q[1], qreg_q[2])\n",
    "#     circuit.measure(qreg_q[0], creg_c[0])"
   ]
  },
  {
   "cell_type": "code",
   "execution_count": 5,
   "id": "e0d16584-c96e-4f0e-95e3-21a7f2a2b4aa",
   "metadata": {},
   "outputs": [
    {
     "data": {
      "image/png": "[encoded data removed]",
      "text/plain": [
       "<Figure size 504x360 with 1 Axes>"
      ]
     },
     "execution_count": 5,
     "metadata": {},
     "output_type": "execute_result"
    }
   ],
   "source": [
    "from qiskit import IBMQ, execute\n",
    "from qiskit.visualization import plot_histogram\n",
    "from qiskit.providers.basicaer import BasicAer\n",
    "\n",
    "# provider = IBMQ.load_account()\n",
    "backend = BasicAer.get_backend(\"qasm_simulator\")\n",
    "shots = 1000\n",
    "results = execute(circuit, backend=backend, shots=shots).result()\n",
    "probabilities = results.get_counts()\n",
    "\n",
    "plot_histogram(probabilities)"
   ]
  },
  {
   "cell_type": "code",
   "execution_count": 6,
   "id": "5af43305-20e5-4434-b18e-efae00efd548",
   "metadata": {},
   "outputs": [
    {
     "name": "stdout",
     "output_type": "stream",
     "text": [
      "0\n",
      "True\n"
     ]
    }
   ],
   "source": [
    "# We use the QASM simulator => only one answer should be provided by \n",
    "# the circuit with probability 1. In other cases we would use the answer\n",
    "# with maximum probablity.\n",
    "max_probability = list(probabilities.keys())[0]\n",
    "\n",
    "# Our answer is hidden in the ancilla qubit. If it is 0 that would mean that \n",
    "# the list is constant. Otherwise, it is balanced. \n",
    "answer = max_probability[0]\n",
    "\n",
    "print(answer)\n",
    "print(answer == '0')"
   ]
  },
  {
   "cell_type": "code",
   "execution_count": 7,
   "id": "fa943373-f639-48ec-9a18-6094946d6cf1",
   "metadata": {},
   "outputs": [
    {
     "ename": "NameError",
     "evalue": "name 'is_constant' is not defined",
     "output_type": "error",
     "traceback": [
      "\u001b[0;31m---------------------------------------------------------------------------\u001b[0m",
      "\u001b[0;31mNameError\u001b[0m                                 Traceback (most recent call last)",
      "Cell \u001b[0;32mIn[7], line 2\u001b[0m\n\u001b[1;32m      1\u001b[0m list_number \u001b[38;5;241m=\u001b[39m [\u001b[38;5;241m1\u001b[39m, \u001b[38;5;241m1\u001b[39m, \u001b[38;5;241m-\u001b[39m\u001b[38;5;241m1\u001b[39m, \u001b[38;5;241m0\u001b[39m]\n\u001b[0;32m----> 2\u001b[0m \u001b[38;5;28mprint\u001b[39m(\u001b[43mis_constant\u001b[49m(list_number))\n",
      "\u001b[0;31mNameError\u001b[0m: name 'is_constant' is not defined"
     ]
    }
   ],
   "source": [
    "list_number = [1, 1, -1, 0]\n",
    "print(is_constant(list_number))"
   ]
  },
  {
   "cell_type": "code",
   "execution_count": null,
   "id": "198f9e8c-b271-441d-8529-e05ea73a7651",
   "metadata": {},
   "outputs": [],
   "source": []
  },
  {
   "cell_type": "code",
   "execution_count": null,
   "id": "b3cc24de-e208-4e8b-ac9b-3c30b462bb9f",
   "metadata": {},
   "outputs": [],
   "source": []
  }
 ],
 "metadata": {
  "kernelspec": {
   "display_name": "Python 3 [Qiskit]",
   "language": "python",
   "name": "python3_qiskit_9y9siy"
  },
  "language_info": {
   "codemirror_mode": {
    "name": "ipython",
    "version": 3
   },
   "file_extension": ".py",
   "mimetype": "text/x-python",
   "name": "python",
   "nbconvert_exporter": "python",
   "pygments_lexer": "ipython3",
   "version": "3.9.12"
  }
 },
 "nbformat": 4,
 "nbformat_minor": 5
}
